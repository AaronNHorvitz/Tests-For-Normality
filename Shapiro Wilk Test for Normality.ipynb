{
 "cells": [
  {
   "cell_type": "markdown",
   "metadata": {},
   "source": [
    "# Dependencies"
   ]
  },
  {
   "cell_type": "code",
   "execution_count": 1,
   "metadata": {},
   "outputs": [],
   "source": [
    "import pandas as pd\n",
    "import numpy as np\n",
    "from scipy.stats import skewnorm"
   ]
  },
  {
   "cell_type": "markdown",
   "metadata": {},
   "source": [
    "# Shapiro-Wilk Test Function"
   ]
  },
  {
   "cell_type": "code",
   "execution_count": 2,
   "metadata": {},
   "outputs": [],
   "source": [
    "def shapiro_wilk_test(data, alpha = 0.5, print_result=False):\n",
    "    \n",
    "    \"\"\"\n",
    "    This function conducts a Shapiro-Wilk Test for normality on a data series.\n",
    "\n",
    "    The Shapiro-Wilk test, proposed in 1965, calculates a W statistic that tests whether a \n",
    "    random sample, x1,x2,…,xn comes from (specifically) a normal distribution . Small values \n",
    "    of W are evidence of departure from normality.\n",
    "\n",
    "    Source: US Department of Commerce, National Institute of Standards and Technology (NIST) \n",
    "    https://www.itl.nist.gov/div898/handbook/prc/section2/prc213.htm\n",
    "\n",
    "    Parameters: \n",
    "        \n",
    "        data: array of sample data\n",
    "        alpha: test threshold\n",
    "        print_result: selected True if printed results are desired\n",
    "        \n",
    "    Returns: string with the test results\n",
    "    \"\"\"\n",
    "\n",
    "    # library file\n",
    "    from scipy.stats import shapiro\n",
    "\n",
    "    # normality test\n",
    "    w_statistic, p_value = shapiro(data)\n",
    "\n",
    "    # interpret\n",
    "    if p_value > alpha:\n",
    "\n",
    "        result = ' > alpha = {:0.5f}'.format(alpha)\n",
    "        conclusion = \"Gaussian (Don't reject H{})\".format('\\u2092') \n",
    "\n",
    "    else:\n",
    "        result = ' < alpha = {:0.5f}'.format(alpha)\n",
    "        conclusion = \"Not Gaussian (Reject H{})\".format('\\u2092') \n",
    "\n",
    "    result_string = 'W statistic = {:0.5f}\\np = {:0.5f}{}\\n{}'.format(w_statistic, p_value, result, conclusion)\n",
    "    \n",
    "    if print_result == True:\n",
    "        print(result_string)\n",
    "    \n",
    "    return result_string"
   ]
  },
  {
   "cell_type": "markdown",
   "metadata": {},
   "source": [
    "# Test on normally distributed data"
   ]
  },
  {
   "cell_type": "code",
   "execution_count": 3,
   "metadata": {},
   "outputs": [
    {
     "name": "stdout",
     "output_type": "stream",
     "text": [
      "W statistic = 0.99989\n",
      "p = 0.95784 > alpha = 0.50000\n",
      "Gaussian (Don't reject Hₒ)\n"
     ]
    },
    {
     "name": "stderr",
     "output_type": "stream",
     "text": [
      "C:\\Users\\ahorvitz\\Anaconda3\\lib\\site-packages\\scipy\\stats\\morestats.py:1681: UserWarning: p-value may not be accurate for N > 5000.\n",
      "  warnings.warn(\"p-value may not be accurate for N > 5000.\")\n"
     ]
    }
   ],
   "source": [
    "numValues=10000\n",
    "maxValue=100\n",
    "skewness=0   #Negative values are left skewed, positive values are right skewed.\n",
    "\n",
    "data = skewnorm.rvs(a = skewness,loc=maxValue, size=numValues)  #Skewnorm function\n",
    "\n",
    "print(shapiro_wilk_test(data))"
   ]
  },
  {
   "cell_type": "markdown",
   "metadata": {},
   "source": [
    "# Test on not normally distributed data"
   ]
  },
  {
   "cell_type": "code",
   "execution_count": 4,
   "metadata": {},
   "outputs": [
    {
     "name": "stdout",
     "output_type": "stream",
     "text": [
      "W statistic = 0.95529\n",
      "p = 0.00000 < alpha = 0.50000\n",
      "Not Gaussian (Reject Hₒ)\n"
     ]
    }
   ],
   "source": [
    "numValues=10000\n",
    "maxValue=100\n",
    "skewness=5   #Negative values are left skewed, positive values are right skewed.\n",
    "\n",
    "data = skewnorm.rvs(a = skewness,loc=maxValue, size=numValues)  #Skewnorm function\n",
    "\n",
    "print(shapiro_wilk_test(data))"
   ]
  },
  {
   "cell_type": "code",
   "execution_count": null,
   "metadata": {},
   "outputs": [],
   "source": []
  }
 ],
 "metadata": {
  "kernelspec": {
   "display_name": "Python 3",
   "language": "python",
   "name": "python3"
  },
  "language_info": {
   "codemirror_mode": {
    "name": "ipython",
    "version": 3
   },
   "file_extension": ".py",
   "mimetype": "text/x-python",
   "name": "python",
   "nbconvert_exporter": "python",
   "pygments_lexer": "ipython3",
   "version": "3.8.3"
  }
 },
 "nbformat": 4,
 "nbformat_minor": 4
}
